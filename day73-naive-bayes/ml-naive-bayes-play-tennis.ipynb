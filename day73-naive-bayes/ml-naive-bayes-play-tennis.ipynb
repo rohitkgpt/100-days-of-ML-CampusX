{
 "cells": [
  {
   "cell_type": "code",
   "execution_count": 1,
   "id": "83df2ff3",
   "metadata": {
    "_cell_guid": "b1076dfc-b9ad-4769-8c92-a6c4dae69d19",
    "_uuid": "8f2839f25d086af736a60e9eeb907d3b93b6e0e5",
    "execution": {
     "iopub.execute_input": "2024-03-21T12:06:57.359718Z",
     "iopub.status.busy": "2024-03-21T12:06:57.358917Z",
     "iopub.status.idle": "2024-03-21T12:06:58.508700Z",
     "shell.execute_reply": "2024-03-21T12:06:58.506961Z"
    },
    "papermill": {
     "duration": 1.162425,
     "end_time": "2024-03-21T12:06:58.511217",
     "exception": false,
     "start_time": "2024-03-21T12:06:57.348792",
     "status": "completed"
    },
    "tags": []
   },
   "outputs": [
    {
     "name": "stdout",
     "output_type": "stream",
     "text": [
      "/kaggle/input/play-tennis/play_tennis.csv\n"
     ]
    }
   ],
   "source": [
    "# This Python 3 environment comes with many helpful analytics libraries installed\n",
    "# It is defined by the kaggle/python Docker image: https://github.com/kaggle/docker-python\n",
    "# For example, here's several helpful packages to load\n",
    "\n",
    "import numpy as np # linear algebra\n",
    "import pandas as pd # data processing, CSV file I/O (e.g. pd.read_csv)\n",
    "\n",
    "# Input data files are available in the read-only \"../input/\" directory\n",
    "# For example, running this (by clicking run or pressing Shift+Enter) will list all files under the input directory\n",
    "\n",
    "import os\n",
    "for dirname, _, filenames in os.walk('/kaggle/input'):\n",
    "    for filename in filenames:\n",
    "        print(os.path.join(dirname, filename))\n",
    "\n",
    "# You can write up to 20GB to the current directory (/kaggle/working/) that gets preserved as output when you create a version using \"Save & Run All\" \n",
    "# You can also write temporary files to /kaggle/temp/, but they won't be saved outside of the current session"
   ]
  },
  {
   "cell_type": "code",
   "execution_count": 2,
   "id": "8974f657",
   "metadata": {
    "execution": {
     "iopub.execute_input": "2024-03-21T12:06:58.530561Z",
     "iopub.status.busy": "2024-03-21T12:06:58.530022Z",
     "iopub.status.idle": "2024-03-21T12:06:58.567981Z",
     "shell.execute_reply": "2024-03-21T12:06:58.566671Z"
    },
    "papermill": {
     "duration": 0.050025,
     "end_time": "2024-03-21T12:06:58.570588",
     "exception": false,
     "start_time": "2024-03-21T12:06:58.520563",
     "status": "completed"
    },
    "tags": []
   },
   "outputs": [
    {
     "data": {
      "text/html": [
       "<div>\n",
       "<style scoped>\n",
       "    .dataframe tbody tr th:only-of-type {\n",
       "        vertical-align: middle;\n",
       "    }\n",
       "\n",
       "    .dataframe tbody tr th {\n",
       "        vertical-align: top;\n",
       "    }\n",
       "\n",
       "    .dataframe thead th {\n",
       "        text-align: right;\n",
       "    }\n",
       "</style>\n",
       "<table border=\"1\" class=\"dataframe\">\n",
       "  <thead>\n",
       "    <tr style=\"text-align: right;\">\n",
       "      <th></th>\n",
       "      <th>day</th>\n",
       "      <th>outlook</th>\n",
       "      <th>temp</th>\n",
       "      <th>humidity</th>\n",
       "      <th>wind</th>\n",
       "      <th>play</th>\n",
       "    </tr>\n",
       "  </thead>\n",
       "  <tbody>\n",
       "    <tr>\n",
       "      <th>0</th>\n",
       "      <td>D1</td>\n",
       "      <td>Sunny</td>\n",
       "      <td>Hot</td>\n",
       "      <td>High</td>\n",
       "      <td>Weak</td>\n",
       "      <td>No</td>\n",
       "    </tr>\n",
       "    <tr>\n",
       "      <th>1</th>\n",
       "      <td>D2</td>\n",
       "      <td>Sunny</td>\n",
       "      <td>Hot</td>\n",
       "      <td>High</td>\n",
       "      <td>Strong</td>\n",
       "      <td>No</td>\n",
       "    </tr>\n",
       "    <tr>\n",
       "      <th>2</th>\n",
       "      <td>D3</td>\n",
       "      <td>Overcast</td>\n",
       "      <td>Hot</td>\n",
       "      <td>High</td>\n",
       "      <td>Weak</td>\n",
       "      <td>Yes</td>\n",
       "    </tr>\n",
       "    <tr>\n",
       "      <th>3</th>\n",
       "      <td>D4</td>\n",
       "      <td>Rain</td>\n",
       "      <td>Mild</td>\n",
       "      <td>High</td>\n",
       "      <td>Weak</td>\n",
       "      <td>Yes</td>\n",
       "    </tr>\n",
       "    <tr>\n",
       "      <th>4</th>\n",
       "      <td>D5</td>\n",
       "      <td>Rain</td>\n",
       "      <td>Cool</td>\n",
       "      <td>Normal</td>\n",
       "      <td>Weak</td>\n",
       "      <td>Yes</td>\n",
       "    </tr>\n",
       "    <tr>\n",
       "      <th>5</th>\n",
       "      <td>D6</td>\n",
       "      <td>Rain</td>\n",
       "      <td>Cool</td>\n",
       "      <td>Normal</td>\n",
       "      <td>Strong</td>\n",
       "      <td>No</td>\n",
       "    </tr>\n",
       "    <tr>\n",
       "      <th>6</th>\n",
       "      <td>D7</td>\n",
       "      <td>Overcast</td>\n",
       "      <td>Cool</td>\n",
       "      <td>Normal</td>\n",
       "      <td>Strong</td>\n",
       "      <td>Yes</td>\n",
       "    </tr>\n",
       "    <tr>\n",
       "      <th>7</th>\n",
       "      <td>D8</td>\n",
       "      <td>Sunny</td>\n",
       "      <td>Mild</td>\n",
       "      <td>High</td>\n",
       "      <td>Weak</td>\n",
       "      <td>No</td>\n",
       "    </tr>\n",
       "    <tr>\n",
       "      <th>8</th>\n",
       "      <td>D9</td>\n",
       "      <td>Sunny</td>\n",
       "      <td>Cool</td>\n",
       "      <td>Normal</td>\n",
       "      <td>Weak</td>\n",
       "      <td>Yes</td>\n",
       "    </tr>\n",
       "    <tr>\n",
       "      <th>9</th>\n",
       "      <td>D10</td>\n",
       "      <td>Rain</td>\n",
       "      <td>Mild</td>\n",
       "      <td>Normal</td>\n",
       "      <td>Weak</td>\n",
       "      <td>Yes</td>\n",
       "    </tr>\n",
       "    <tr>\n",
       "      <th>10</th>\n",
       "      <td>D11</td>\n",
       "      <td>Sunny</td>\n",
       "      <td>Mild</td>\n",
       "      <td>Normal</td>\n",
       "      <td>Strong</td>\n",
       "      <td>Yes</td>\n",
       "    </tr>\n",
       "    <tr>\n",
       "      <th>11</th>\n",
       "      <td>D12</td>\n",
       "      <td>Overcast</td>\n",
       "      <td>Mild</td>\n",
       "      <td>High</td>\n",
       "      <td>Strong</td>\n",
       "      <td>Yes</td>\n",
       "    </tr>\n",
       "    <tr>\n",
       "      <th>12</th>\n",
       "      <td>D13</td>\n",
       "      <td>Overcast</td>\n",
       "      <td>Hot</td>\n",
       "      <td>Normal</td>\n",
       "      <td>Weak</td>\n",
       "      <td>Yes</td>\n",
       "    </tr>\n",
       "    <tr>\n",
       "      <th>13</th>\n",
       "      <td>D14</td>\n",
       "      <td>Rain</td>\n",
       "      <td>Mild</td>\n",
       "      <td>High</td>\n",
       "      <td>Strong</td>\n",
       "      <td>No</td>\n",
       "    </tr>\n",
       "  </tbody>\n",
       "</table>\n",
       "</div>"
      ],
      "text/plain": [
       "    day   outlook  temp humidity    wind play\n",
       "0    D1     Sunny   Hot     High    Weak   No\n",
       "1    D2     Sunny   Hot     High  Strong   No\n",
       "2    D3  Overcast   Hot     High    Weak  Yes\n",
       "3    D4      Rain  Mild     High    Weak  Yes\n",
       "4    D5      Rain  Cool   Normal    Weak  Yes\n",
       "5    D6      Rain  Cool   Normal  Strong   No\n",
       "6    D7  Overcast  Cool   Normal  Strong  Yes\n",
       "7    D8     Sunny  Mild     High    Weak   No\n",
       "8    D9     Sunny  Cool   Normal    Weak  Yes\n",
       "9   D10      Rain  Mild   Normal    Weak  Yes\n",
       "10  D11     Sunny  Mild   Normal  Strong  Yes\n",
       "11  D12  Overcast  Mild     High  Strong  Yes\n",
       "12  D13  Overcast   Hot   Normal    Weak  Yes\n",
       "13  D14      Rain  Mild     High  Strong   No"
      ]
     },
     "execution_count": 2,
     "metadata": {},
     "output_type": "execute_result"
    }
   ],
   "source": [
    "import numpy as np\n",
    "import pandas as pd\n",
    "\n",
    "data = pd.read_csv(r\"/kaggle/input/play-tennis/play_tennis.csv\")\n",
    "data"
   ]
  },
  {
   "cell_type": "code",
   "execution_count": 3,
   "id": "ab472f75",
   "metadata": {
    "execution": {
     "iopub.execute_input": "2024-03-21T12:06:58.588745Z",
     "iopub.status.busy": "2024-03-21T12:06:58.587629Z",
     "iopub.status.idle": "2024-03-21T12:06:58.609793Z",
     "shell.execute_reply": "2024-03-21T12:06:58.608512Z"
    },
    "papermill": {
     "duration": 0.034226,
     "end_time": "2024-03-21T12:06:58.612688",
     "exception": false,
     "start_time": "2024-03-21T12:06:58.578462",
     "status": "completed"
    },
    "tags": []
   },
   "outputs": [
    {
     "data": {
      "text/html": [
       "<div>\n",
       "<style scoped>\n",
       "    .dataframe tbody tr th:only-of-type {\n",
       "        vertical-align: middle;\n",
       "    }\n",
       "\n",
       "    .dataframe tbody tr th {\n",
       "        vertical-align: top;\n",
       "    }\n",
       "\n",
       "    .dataframe thead th {\n",
       "        text-align: right;\n",
       "    }\n",
       "</style>\n",
       "<table border=\"1\" class=\"dataframe\">\n",
       "  <thead>\n",
       "    <tr style=\"text-align: right;\">\n",
       "      <th></th>\n",
       "      <th>outlook</th>\n",
       "      <th>temp</th>\n",
       "      <th>humidity</th>\n",
       "      <th>wind</th>\n",
       "      <th>play</th>\n",
       "    </tr>\n",
       "  </thead>\n",
       "  <tbody>\n",
       "    <tr>\n",
       "      <th>0</th>\n",
       "      <td>Sunny</td>\n",
       "      <td>Hot</td>\n",
       "      <td>High</td>\n",
       "      <td>Weak</td>\n",
       "      <td>No</td>\n",
       "    </tr>\n",
       "    <tr>\n",
       "      <th>1</th>\n",
       "      <td>Sunny</td>\n",
       "      <td>Hot</td>\n",
       "      <td>High</td>\n",
       "      <td>Strong</td>\n",
       "      <td>No</td>\n",
       "    </tr>\n",
       "    <tr>\n",
       "      <th>2</th>\n",
       "      <td>Overcast</td>\n",
       "      <td>Hot</td>\n",
       "      <td>High</td>\n",
       "      <td>Weak</td>\n",
       "      <td>Yes</td>\n",
       "    </tr>\n",
       "    <tr>\n",
       "      <th>3</th>\n",
       "      <td>Rain</td>\n",
       "      <td>Mild</td>\n",
       "      <td>High</td>\n",
       "      <td>Weak</td>\n",
       "      <td>Yes</td>\n",
       "    </tr>\n",
       "    <tr>\n",
       "      <th>4</th>\n",
       "      <td>Rain</td>\n",
       "      <td>Cool</td>\n",
       "      <td>Normal</td>\n",
       "      <td>Weak</td>\n",
       "      <td>Yes</td>\n",
       "    </tr>\n",
       "    <tr>\n",
       "      <th>5</th>\n",
       "      <td>Rain</td>\n",
       "      <td>Cool</td>\n",
       "      <td>Normal</td>\n",
       "      <td>Strong</td>\n",
       "      <td>No</td>\n",
       "    </tr>\n",
       "    <tr>\n",
       "      <th>6</th>\n",
       "      <td>Overcast</td>\n",
       "      <td>Cool</td>\n",
       "      <td>Normal</td>\n",
       "      <td>Strong</td>\n",
       "      <td>Yes</td>\n",
       "    </tr>\n",
       "    <tr>\n",
       "      <th>7</th>\n",
       "      <td>Sunny</td>\n",
       "      <td>Mild</td>\n",
       "      <td>High</td>\n",
       "      <td>Weak</td>\n",
       "      <td>No</td>\n",
       "    </tr>\n",
       "    <tr>\n",
       "      <th>8</th>\n",
       "      <td>Sunny</td>\n",
       "      <td>Cool</td>\n",
       "      <td>Normal</td>\n",
       "      <td>Weak</td>\n",
       "      <td>Yes</td>\n",
       "    </tr>\n",
       "    <tr>\n",
       "      <th>9</th>\n",
       "      <td>Rain</td>\n",
       "      <td>Mild</td>\n",
       "      <td>Normal</td>\n",
       "      <td>Weak</td>\n",
       "      <td>Yes</td>\n",
       "    </tr>\n",
       "    <tr>\n",
       "      <th>10</th>\n",
       "      <td>Sunny</td>\n",
       "      <td>Mild</td>\n",
       "      <td>Normal</td>\n",
       "      <td>Strong</td>\n",
       "      <td>Yes</td>\n",
       "    </tr>\n",
       "    <tr>\n",
       "      <th>11</th>\n",
       "      <td>Overcast</td>\n",
       "      <td>Mild</td>\n",
       "      <td>High</td>\n",
       "      <td>Strong</td>\n",
       "      <td>Yes</td>\n",
       "    </tr>\n",
       "    <tr>\n",
       "      <th>12</th>\n",
       "      <td>Overcast</td>\n",
       "      <td>Hot</td>\n",
       "      <td>Normal</td>\n",
       "      <td>Weak</td>\n",
       "      <td>Yes</td>\n",
       "    </tr>\n",
       "    <tr>\n",
       "      <th>13</th>\n",
       "      <td>Rain</td>\n",
       "      <td>Mild</td>\n",
       "      <td>High</td>\n",
       "      <td>Strong</td>\n",
       "      <td>No</td>\n",
       "    </tr>\n",
       "  </tbody>\n",
       "</table>\n",
       "</div>"
      ],
      "text/plain": [
       "     outlook  temp humidity    wind play\n",
       "0      Sunny   Hot     High    Weak   No\n",
       "1      Sunny   Hot     High  Strong   No\n",
       "2   Overcast   Hot     High    Weak  Yes\n",
       "3       Rain  Mild     High    Weak  Yes\n",
       "4       Rain  Cool   Normal    Weak  Yes\n",
       "5       Rain  Cool   Normal  Strong   No\n",
       "6   Overcast  Cool   Normal  Strong  Yes\n",
       "7      Sunny  Mild     High    Weak   No\n",
       "8      Sunny  Cool   Normal    Weak  Yes\n",
       "9       Rain  Mild   Normal    Weak  Yes\n",
       "10     Sunny  Mild   Normal  Strong  Yes\n",
       "11  Overcast  Mild     High  Strong  Yes\n",
       "12  Overcast   Hot   Normal    Weak  Yes\n",
       "13      Rain  Mild     High  Strong   No"
      ]
     },
     "execution_count": 3,
     "metadata": {},
     "output_type": "execute_result"
    }
   ],
   "source": [
    "data.drop(columns=['day'],inplace=True)\n",
    "data"
   ]
  },
  {
   "cell_type": "code",
   "execution_count": 4,
   "id": "16692273",
   "metadata": {
    "execution": {
     "iopub.execute_input": "2024-03-21T12:06:58.631716Z",
     "iopub.status.busy": "2024-03-21T12:06:58.630803Z",
     "iopub.status.idle": "2024-03-21T12:06:58.635868Z",
     "shell.execute_reply": "2024-03-21T12:06:58.634813Z"
    },
    "papermill": {
     "duration": 0.016809,
     "end_time": "2024-03-21T12:06:58.638135",
     "exception": false,
     "start_time": "2024-03-21T12:06:58.621326",
     "status": "completed"
    },
    "tags": []
   },
   "outputs": [],
   "source": [
    "#Problem 1\n",
    "#Outlook-Sunny, temp-Hot, humidity-High, wind-Weak, \n",
    "#play-No or play-Yes ?\n",
    "\n",
    "#Solution \n",
    "# P(yes/sunny,hot,high,weak) = P(SunnyYes) * P(Hot/Yes) * P(Humidity/Yes) * P(Weak/Yes) * P(Yes)\n",
    "# P(No/sunny, hot, high, weak) = P(Sunny/No) * P(Hot/No) * P(Humidty/No) * P(Weak/No) * P(No)\n",
    "\n",
    "# compare and decide using the Maximum a posteriori rule"
   ]
  },
  {
   "cell_type": "code",
   "execution_count": 5,
   "id": "7a661641",
   "metadata": {
    "execution": {
     "iopub.execute_input": "2024-03-21T12:06:58.656142Z",
     "iopub.status.busy": "2024-03-21T12:06:58.655691Z",
     "iopub.status.idle": "2024-03-21T12:06:58.661816Z",
     "shell.execute_reply": "2024-03-21T12:06:58.660635Z"
    },
    "papermill": {
     "duration": 0.018326,
     "end_time": "2024-03-21T12:06:58.664604",
     "exception": false,
     "start_time": "2024-03-21T12:06:58.646278",
     "status": "completed"
    },
    "tags": []
   },
   "outputs": [],
   "source": [
    "# Problem 2\n",
    "\n",
    "#Outlook=Overcast , Temp-Mild, Humidity-Normal, wind= Strong\n",
    "# Play or no play \n",
    "\n",
    "# Solution\n",
    "# P(Yes/ Overcast, Mild, Normal,Strong) = P(Overcast/Yes) * P(Mild/Yes) * P(Normal/Yes) * P(Strong/Yes)\n",
    "# P(No/Overcast, Mild, Normal,Strong) = P(Overcast/No) * P(Mild/No) * P(Normal/No) * P(Strong/No)\n",
    "\n",
    "# compare and decide using the Maximum a posteriori rule"
   ]
  },
  {
   "cell_type": "code",
   "execution_count": 6,
   "id": "22895c6b",
   "metadata": {
    "execution": {
     "iopub.execute_input": "2024-03-21T12:06:58.682662Z",
     "iopub.status.busy": "2024-03-21T12:06:58.682254Z",
     "iopub.status.idle": "2024-03-21T12:06:58.687717Z",
     "shell.execute_reply": "2024-03-21T12:06:58.686221Z"
    },
    "papermill": {
     "duration": 0.017718,
     "end_time": "2024-03-21T12:06:58.690502",
     "exception": false,
     "start_time": "2024-03-21T12:06:58.672784",
     "status": "completed"
    },
    "tags": []
   },
   "outputs": [],
   "source": [
    "#Training\n",
    "\n",
    "# create lookuptable(dict) at training stage\n",
    "\n",
    "#Testing\n",
    "\n",
    "# P(Yes)\n",
    "# P(No)"
   ]
  },
  {
   "cell_type": "code",
   "execution_count": 7,
   "id": "b1c15781",
   "metadata": {
    "execution": {
     "iopub.execute_input": "2024-03-21T12:06:58.708485Z",
     "iopub.status.busy": "2024-03-21T12:06:58.708095Z",
     "iopub.status.idle": "2024-03-21T12:06:58.724121Z",
     "shell.execute_reply": "2024-03-21T12:06:58.722891Z"
    },
    "papermill": {
     "duration": 0.028175,
     "end_time": "2024-03-21T12:06:58.726817",
     "exception": false,
     "start_time": "2024-03-21T12:06:58.698642",
     "status": "completed"
    },
    "tags": []
   },
   "outputs": [
    {
     "data": {
      "text/plain": [
       "play\n",
       "Yes    9\n",
       "No     5\n",
       "Name: count, dtype: int64"
      ]
     },
     "execution_count": 7,
     "metadata": {},
     "output_type": "execute_result"
    }
   ],
   "source": [
    "data['play'].value_counts()"
   ]
  },
  {
   "cell_type": "code",
   "execution_count": 8,
   "id": "9b743cbb",
   "metadata": {
    "execution": {
     "iopub.execute_input": "2024-03-21T12:06:58.746534Z",
     "iopub.status.busy": "2024-03-21T12:06:58.746125Z",
     "iopub.status.idle": "2024-03-21T12:06:58.751985Z",
     "shell.execute_reply": "2024-03-21T12:06:58.750788Z"
    },
    "papermill": {
     "duration": 0.019277,
     "end_time": "2024-03-21T12:06:58.754914",
     "exception": false,
     "start_time": "2024-03-21T12:06:58.735637",
     "status": "completed"
    },
    "tags": []
   },
   "outputs": [
    {
     "name": "stdout",
     "output_type": "stream",
     "text": [
      "0.6428571428571429\n",
      "0.35714285714285715\n"
     ]
    }
   ],
   "source": [
    "py = 9/14\n",
    "pn = 5/14\n",
    "print(py)\n",
    "print(pn) "
   ]
  },
  {
   "cell_type": "code",
   "execution_count": 9,
   "id": "92ed0102",
   "metadata": {
    "execution": {
     "iopub.execute_input": "2024-03-21T12:06:58.773818Z",
     "iopub.status.busy": "2024-03-21T12:06:58.773388Z",
     "iopub.status.idle": "2024-03-21T12:06:58.811156Z",
     "shell.execute_reply": "2024-03-21T12:06:58.810011Z"
    },
    "papermill": {
     "duration": 0.050064,
     "end_time": "2024-03-21T12:06:58.813666",
     "exception": false,
     "start_time": "2024-03-21T12:06:58.763602",
     "status": "completed"
    },
    "tags": []
   },
   "outputs": [
    {
     "data": {
      "text/html": [
       "<div>\n",
       "<style scoped>\n",
       "    .dataframe tbody tr th:only-of-type {\n",
       "        vertical-align: middle;\n",
       "    }\n",
       "\n",
       "    .dataframe tbody tr th {\n",
       "        vertical-align: top;\n",
       "    }\n",
       "\n",
       "    .dataframe thead th {\n",
       "        text-align: right;\n",
       "    }\n",
       "</style>\n",
       "<table border=\"1\" class=\"dataframe\">\n",
       "  <thead>\n",
       "    <tr style=\"text-align: right;\">\n",
       "      <th>play</th>\n",
       "      <th>No</th>\n",
       "      <th>Yes</th>\n",
       "    </tr>\n",
       "    <tr>\n",
       "      <th>outlook</th>\n",
       "      <th></th>\n",
       "      <th></th>\n",
       "    </tr>\n",
       "  </thead>\n",
       "  <tbody>\n",
       "    <tr>\n",
       "      <th>Overcast</th>\n",
       "      <td>0</td>\n",
       "      <td>4</td>\n",
       "    </tr>\n",
       "    <tr>\n",
       "      <th>Rain</th>\n",
       "      <td>2</td>\n",
       "      <td>3</td>\n",
       "    </tr>\n",
       "    <tr>\n",
       "      <th>Sunny</th>\n",
       "      <td>3</td>\n",
       "      <td>2</td>\n",
       "    </tr>\n",
       "  </tbody>\n",
       "</table>\n",
       "</div>"
      ],
      "text/plain": [
       "play      No  Yes\n",
       "outlook          \n",
       "Overcast   0    4\n",
       "Rain       2    3\n",
       "Sunny      3    2"
      ]
     },
     "execution_count": 9,
     "metadata": {},
     "output_type": "execute_result"
    }
   ],
   "source": [
    "#Outlook\n",
    "\n",
    "pd.crosstab(data['outlook'], data['play'])"
   ]
  },
  {
   "cell_type": "code",
   "execution_count": 10,
   "id": "89e497b9",
   "metadata": {
    "execution": {
     "iopub.execute_input": "2024-03-21T12:06:58.832607Z",
     "iopub.status.busy": "2024-03-21T12:06:58.832145Z",
     "iopub.status.idle": "2024-03-21T12:06:58.837563Z",
     "shell.execute_reply": "2024-03-21T12:06:58.836437Z"
    },
    "papermill": {
     "duration": 0.017622,
     "end_time": "2024-03-21T12:06:58.839983",
     "exception": false,
     "start_time": "2024-03-21T12:06:58.822361",
     "status": "completed"
    },
    "tags": []
   },
   "outputs": [],
   "source": [
    "# p is probabaility\n",
    "pon = 0\n",
    "prn = 2/5\n",
    "psn = 3/5\n",
    "\n",
    "poy = 4/9\n",
    "pry= 3/9\n",
    "psy = 2/9"
   ]
  },
  {
   "cell_type": "code",
   "execution_count": 11,
   "id": "6485263b",
   "metadata": {
    "execution": {
     "iopub.execute_input": "2024-03-21T12:06:58.860564Z",
     "iopub.status.busy": "2024-03-21T12:06:58.860143Z",
     "iopub.status.idle": "2024-03-21T12:06:58.879949Z",
     "shell.execute_reply": "2024-03-21T12:06:58.879063Z"
    },
    "papermill": {
     "duration": 0.033546,
     "end_time": "2024-03-21T12:06:58.882269",
     "exception": false,
     "start_time": "2024-03-21T12:06:58.848723",
     "status": "completed"
    },
    "tags": []
   },
   "outputs": [
    {
     "data": {
      "text/html": [
       "<div>\n",
       "<style scoped>\n",
       "    .dataframe tbody tr th:only-of-type {\n",
       "        vertical-align: middle;\n",
       "    }\n",
       "\n",
       "    .dataframe tbody tr th {\n",
       "        vertical-align: top;\n",
       "    }\n",
       "\n",
       "    .dataframe thead th {\n",
       "        text-align: right;\n",
       "    }\n",
       "</style>\n",
       "<table border=\"1\" class=\"dataframe\">\n",
       "  <thead>\n",
       "    <tr style=\"text-align: right;\">\n",
       "      <th>play</th>\n",
       "      <th>No</th>\n",
       "      <th>Yes</th>\n",
       "    </tr>\n",
       "    <tr>\n",
       "      <th>temp</th>\n",
       "      <th></th>\n",
       "      <th></th>\n",
       "    </tr>\n",
       "  </thead>\n",
       "  <tbody>\n",
       "    <tr>\n",
       "      <th>Cool</th>\n",
       "      <td>1</td>\n",
       "      <td>3</td>\n",
       "    </tr>\n",
       "    <tr>\n",
       "      <th>Hot</th>\n",
       "      <td>2</td>\n",
       "      <td>2</td>\n",
       "    </tr>\n",
       "    <tr>\n",
       "      <th>Mild</th>\n",
       "      <td>2</td>\n",
       "      <td>4</td>\n",
       "    </tr>\n",
       "  </tbody>\n",
       "</table>\n",
       "</div>"
      ],
      "text/plain": [
       "play  No  Yes\n",
       "temp         \n",
       "Cool   1    3\n",
       "Hot    2    2\n",
       "Mild   2    4"
      ]
     },
     "execution_count": 11,
     "metadata": {},
     "output_type": "execute_result"
    }
   ],
   "source": [
    "pd.crosstab(data['temp'], data['play'])"
   ]
  },
  {
   "cell_type": "code",
   "execution_count": 12,
   "id": "20e0ac28",
   "metadata": {
    "execution": {
     "iopub.execute_input": "2024-03-21T12:06:58.902592Z",
     "iopub.status.busy": "2024-03-21T12:06:58.902138Z",
     "iopub.status.idle": "2024-03-21T12:06:58.908487Z",
     "shell.execute_reply": "2024-03-21T12:06:58.907090Z"
    },
    "papermill": {
     "duration": 0.019957,
     "end_time": "2024-03-21T12:06:58.911119",
     "exception": false,
     "start_time": "2024-03-21T12:06:58.891162",
     "status": "completed"
    },
    "tags": []
   },
   "outputs": [],
   "source": [
    "pcoolno = 1/5\n",
    "photno = 2/5\n",
    "pmildno = 2/5\n",
    "\n",
    "pcoolyes = 3/9\n",
    "photyes= 2/9\n",
    "pmildyes= 4/9"
   ]
  },
  {
   "cell_type": "code",
   "execution_count": 13,
   "id": "355f29a0",
   "metadata": {
    "execution": {
     "iopub.execute_input": "2024-03-21T12:06:58.931325Z",
     "iopub.status.busy": "2024-03-21T12:06:58.930182Z",
     "iopub.status.idle": "2024-03-21T12:06:58.952863Z",
     "shell.execute_reply": "2024-03-21T12:06:58.951533Z"
    },
    "papermill": {
     "duration": 0.036152,
     "end_time": "2024-03-21T12:06:58.956149",
     "exception": false,
     "start_time": "2024-03-21T12:06:58.919997",
     "status": "completed"
    },
    "tags": []
   },
   "outputs": [
    {
     "data": {
      "text/html": [
       "<div>\n",
       "<style scoped>\n",
       "    .dataframe tbody tr th:only-of-type {\n",
       "        vertical-align: middle;\n",
       "    }\n",
       "\n",
       "    .dataframe tbody tr th {\n",
       "        vertical-align: top;\n",
       "    }\n",
       "\n",
       "    .dataframe thead th {\n",
       "        text-align: right;\n",
       "    }\n",
       "</style>\n",
       "<table border=\"1\" class=\"dataframe\">\n",
       "  <thead>\n",
       "    <tr style=\"text-align: right;\">\n",
       "      <th>play</th>\n",
       "      <th>No</th>\n",
       "      <th>Yes</th>\n",
       "    </tr>\n",
       "    <tr>\n",
       "      <th>humidity</th>\n",
       "      <th></th>\n",
       "      <th></th>\n",
       "    </tr>\n",
       "  </thead>\n",
       "  <tbody>\n",
       "    <tr>\n",
       "      <th>High</th>\n",
       "      <td>4</td>\n",
       "      <td>3</td>\n",
       "    </tr>\n",
       "    <tr>\n",
       "      <th>Normal</th>\n",
       "      <td>1</td>\n",
       "      <td>6</td>\n",
       "    </tr>\n",
       "  </tbody>\n",
       "</table>\n",
       "</div>"
      ],
      "text/plain": [
       "play      No  Yes\n",
       "humidity         \n",
       "High       4    3\n",
       "Normal     1    6"
      ]
     },
     "execution_count": 13,
     "metadata": {},
     "output_type": "execute_result"
    }
   ],
   "source": [
    "pd.crosstab(data['humidity'], data['play'])"
   ]
  },
  {
   "cell_type": "code",
   "execution_count": 14,
   "id": "feb02655",
   "metadata": {
    "execution": {
     "iopub.execute_input": "2024-03-21T12:06:58.977523Z",
     "iopub.status.busy": "2024-03-21T12:06:58.977082Z",
     "iopub.status.idle": "2024-03-21T12:06:58.983369Z",
     "shell.execute_reply": "2024-03-21T12:06:58.981869Z"
    },
    "papermill": {
     "duration": 0.019901,
     "end_time": "2024-03-21T12:06:58.986124",
     "exception": false,
     "start_time": "2024-03-21T12:06:58.966223",
     "status": "completed"
    },
    "tags": []
   },
   "outputs": [],
   "source": [
    "phighno= 4/5\n",
    "pnormalno = 1/5\n",
    "\n",
    "phighyes = 3/9\n",
    "pnormalyes = 6/9"
   ]
  },
  {
   "cell_type": "code",
   "execution_count": 15,
   "id": "39865117",
   "metadata": {
    "execution": {
     "iopub.execute_input": "2024-03-21T12:06:59.008025Z",
     "iopub.status.busy": "2024-03-21T12:06:59.007614Z",
     "iopub.status.idle": "2024-03-21T12:06:59.028814Z",
     "shell.execute_reply": "2024-03-21T12:06:59.027411Z"
    },
    "papermill": {
     "duration": 0.036373,
     "end_time": "2024-03-21T12:06:59.031828",
     "exception": false,
     "start_time": "2024-03-21T12:06:58.995455",
     "status": "completed"
    },
    "tags": []
   },
   "outputs": [
    {
     "data": {
      "text/html": [
       "<div>\n",
       "<style scoped>\n",
       "    .dataframe tbody tr th:only-of-type {\n",
       "        vertical-align: middle;\n",
       "    }\n",
       "\n",
       "    .dataframe tbody tr th {\n",
       "        vertical-align: top;\n",
       "    }\n",
       "\n",
       "    .dataframe thead th {\n",
       "        text-align: right;\n",
       "    }\n",
       "</style>\n",
       "<table border=\"1\" class=\"dataframe\">\n",
       "  <thead>\n",
       "    <tr style=\"text-align: right;\">\n",
       "      <th>play</th>\n",
       "      <th>No</th>\n",
       "      <th>Yes</th>\n",
       "    </tr>\n",
       "    <tr>\n",
       "      <th>wind</th>\n",
       "      <th></th>\n",
       "      <th></th>\n",
       "    </tr>\n",
       "  </thead>\n",
       "  <tbody>\n",
       "    <tr>\n",
       "      <th>Strong</th>\n",
       "      <td>3</td>\n",
       "      <td>3</td>\n",
       "    </tr>\n",
       "    <tr>\n",
       "      <th>Weak</th>\n",
       "      <td>2</td>\n",
       "      <td>6</td>\n",
       "    </tr>\n",
       "  </tbody>\n",
       "</table>\n",
       "</div>"
      ],
      "text/plain": [
       "play    No  Yes\n",
       "wind           \n",
       "Strong   3    3\n",
       "Weak     2    6"
      ]
     },
     "execution_count": 15,
     "metadata": {},
     "output_type": "execute_result"
    }
   ],
   "source": [
    "pd.crosstab(data['wind'], data['play'])"
   ]
  },
  {
   "cell_type": "code",
   "execution_count": 16,
   "id": "993e89ae",
   "metadata": {
    "execution": {
     "iopub.execute_input": "2024-03-21T12:06:59.054363Z",
     "iopub.status.busy": "2024-03-21T12:06:59.053079Z",
     "iopub.status.idle": "2024-03-21T12:06:59.059199Z",
     "shell.execute_reply": "2024-03-21T12:06:59.058129Z"
    },
    "papermill": {
     "duration": 0.020525,
     "end_time": "2024-03-21T12:06:59.061788",
     "exception": false,
     "start_time": "2024-03-21T12:06:59.041263",
     "status": "completed"
    },
    "tags": []
   },
   "outputs": [],
   "source": [
    "pstrongno = 3/5\n",
    "pweakno = 2/5\n",
    "\n",
    "pstrongyes = 3/9\n",
    "pweakyes = 6/9"
   ]
  },
  {
   "cell_type": "code",
   "execution_count": 17,
   "id": "dfb9758c",
   "metadata": {
    "execution": {
     "iopub.execute_input": "2024-03-21T12:06:59.082258Z",
     "iopub.status.busy": "2024-03-21T12:06:59.081845Z",
     "iopub.status.idle": "2024-03-21T12:06:59.087291Z",
     "shell.execute_reply": "2024-03-21T12:06:59.086296Z"
    },
    "papermill": {
     "duration": 0.018447,
     "end_time": "2024-03-21T12:06:59.089596",
     "exception": false,
     "start_time": "2024-03-21T12:06:59.071149",
     "status": "completed"
    },
    "tags": []
   },
   "outputs": [],
   "source": [
    "# From Problem 1\n",
    "#Outlook-Sunny, temp-Hot, humidity-High, wind-Weak, play-No,P(Yes)\n",
    "\n",
    "#Solution\n",
    "# P(yes/sunny,hot,high,weak) = P(SunnyYes) * P(Hot/Yes) * P(Humidity/Yes) * P(Weak/Yes) * P(Yes)\n",
    "# P(No/sunny, hot, high, weak) = P(Sunny/No) * P(Hot/No) * P(Humidty/No) * P(Weak/No) * P(No)\n",
    "\n",
    "Pyes = psy * photyes * phighyes * pweakyes * py\n",
    "Pno = psn * photno * phighno * pweakno * pn"
   ]
  },
  {
   "cell_type": "code",
   "execution_count": 18,
   "id": "674437eb",
   "metadata": {
    "execution": {
     "iopub.execute_input": "2024-03-21T12:06:59.115199Z",
     "iopub.status.busy": "2024-03-21T12:06:59.114733Z",
     "iopub.status.idle": "2024-03-21T12:06:59.121078Z",
     "shell.execute_reply": "2024-03-21T12:06:59.120180Z"
    },
    "papermill": {
     "duration": 0.023348,
     "end_time": "2024-03-21T12:06:59.124292",
     "exception": false,
     "start_time": "2024-03-21T12:06:59.100944",
     "status": "completed"
    },
    "tags": []
   },
   "outputs": [
    {
     "name": "stdout",
     "output_type": "stream",
     "text": [
      "Probability of yes 0.007054673721340387\n",
      "Probability of no 0.02742857142857143\n"
     ]
    }
   ],
   "source": [
    "print(\"Probability of yes\",Pyes)\n",
    "print(\"Probability of no\",Pno)"
   ]
  },
  {
   "cell_type": "code",
   "execution_count": 19,
   "id": "360d619f",
   "metadata": {
    "execution": {
     "iopub.execute_input": "2024-03-21T12:06:59.146954Z",
     "iopub.status.busy": "2024-03-21T12:06:59.146389Z",
     "iopub.status.idle": "2024-03-21T12:06:59.154104Z",
     "shell.execute_reply": "2024-03-21T12:06:59.152252Z"
    },
    "papermill": {
     "duration": 0.023857,
     "end_time": "2024-03-21T12:06:59.157744",
     "exception": false,
     "start_time": "2024-03-21T12:06:59.133887",
     "status": "completed"
    },
    "tags": []
   },
   "outputs": [],
   "source": [
    "# Problem 2\n",
    "\n",
    "#Outlook=Overcast , Temp-Mild, Humidity-Normal, wind= Strong\n",
    "# Play or no play \n",
    "\n",
    "# Solution\n",
    "# P(Yes/ Overcast, Mild, Normal,Strong) = P(Overcast/Yes) * P(Mild/Yes) * P(Normal/Yes) * P(Strong/Yes) *P(yes)\n",
    "# P(No/Overcast, Mild, Normal,Strong) = P(Overcast/No) * P(Mild/No) * P(Normal/No) * P(Strong/No) * P(no)\n",
    "\n",
    "pyes = py * poy * pmildyes * pnormalyes * pstrongyes\n",
    "pno = pn * pon * pmildno * pnormalno * pstrongno"
   ]
  },
  {
   "cell_type": "code",
   "execution_count": 20,
   "id": "56942219",
   "metadata": {
    "execution": {
     "iopub.execute_input": "2024-03-21T12:06:59.180032Z",
     "iopub.status.busy": "2024-03-21T12:06:59.179461Z",
     "iopub.status.idle": "2024-03-21T12:06:59.186117Z",
     "shell.execute_reply": "2024-03-21T12:06:59.184524Z"
    },
    "papermill": {
     "duration": 0.020724,
     "end_time": "2024-03-21T12:06:59.188692",
     "exception": false,
     "start_time": "2024-03-21T12:06:59.167968",
     "status": "completed"
    },
    "tags": []
   },
   "outputs": [
    {
     "name": "stdout",
     "output_type": "stream",
     "text": [
      "Probability of yes 0.02821869488536155\n",
      "Probability of no  0.0\n"
     ]
    }
   ],
   "source": [
    "print(\"Probability of yes\", pyes)\n",
    "print(\"Probability of no \", pno)"
   ]
  }
 ],
 "metadata": {
  "kaggle": {
   "accelerator": "none",
   "dataSources": [
    {
     "datasetId": 89775,
     "sourceId": 207354,
     "sourceType": "datasetVersion"
    }
   ],
   "dockerImageVersionId": 30673,
   "isGpuEnabled": false,
   "isInternetEnabled": false,
   "language": "python",
   "sourceType": "notebook"
  },
  "kernelspec": {
   "display_name": "Python 3",
   "language": "python",
   "name": "python3"
  },
  "language_info": {
   "codemirror_mode": {
    "name": "ipython",
    "version": 3
   },
   "file_extension": ".py",
   "mimetype": "text/x-python",
   "name": "python",
   "nbconvert_exporter": "python",
   "pygments_lexer": "ipython3",
   "version": "3.10.13"
  },
  "papermill": {
   "default_parameters": {},
   "duration": 5.927976,
   "end_time": "2024-03-21T12:06:59.720329",
   "environment_variables": {},
   "exception": null,
   "input_path": "__notebook__.ipynb",
   "output_path": "__notebook__.ipynb",
   "parameters": {},
   "start_time": "2024-03-21T12:06:53.792353",
   "version": "2.5.0"
  }
 },
 "nbformat": 4,
 "nbformat_minor": 5
}
